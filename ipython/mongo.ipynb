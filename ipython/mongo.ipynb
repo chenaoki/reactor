{
 "metadata": {
  "name": "",
  "signature": "sha256:c732965eff8722ca4ee0f7df0bb00b897a5bdf32ece7c4dda6b51db6d29e274b"
 },
 "nbformat": 3,
 "nbformat_minor": 0,
 "worksheets": [
  {
   "cells": [
    {
     "cell_type": "code",
     "collapsed": false,
     "input": [
      "from pymongo import Connection\n",
      "from bson.objectid import ObjectId"
     ],
     "language": "python",
     "metadata": {},
     "outputs": [],
     "prompt_number": 41
    },
    {
     "cell_type": "code",
     "collapsed": false,
     "input": [
      "conn = Connection(\"localhost\")\n",
      "coll = conn[\"reactor\"][\"reaction\"]"
     ],
     "language": "python",
     "metadata": {},
     "outputs": [],
     "prompt_number": 42
    },
    {
     "cell_type": "code",
     "collapsed": false,
     "input": [
      "coll.insert({'b' : 10, \"passwd\":\"hoge\"})"
     ],
     "language": "python",
     "metadata": {},
     "outputs": [
      {
       "metadata": {},
       "output_type": "pyout",
       "prompt_number": 43,
       "text": [
        "ObjectId('54d77ec606612110f563bf86')"
       ]
      }
     ],
     "prompt_number": 43
    },
    {
     "cell_type": "code",
     "collapsed": false,
     "input": [
      "for data in coll.find({'b':10}):\n",
      "    print data"
     ],
     "language": "python",
     "metadata": {},
     "outputs": [
      {
       "output_type": "stream",
       "stream": "stdout",
       "text": [
        "{u'passwd': u'hoge', u'_id': ObjectId('54d77ec606612110f563bf86'), u'b': 10}\n"
       ]
      }
     ],
     "prompt_number": 44
    },
    {
     "cell_type": "code",
     "collapsed": false,
     "input": [
      "for data in coll.find():\n",
      "    print data['_id']"
     ],
     "language": "python",
     "metadata": {},
     "outputs": [
      {
       "output_type": "stream",
       "stream": "stdout",
       "text": [
        "54d77ec606612110f563bf86\n"
       ]
      }
     ],
     "prompt_number": 45
    },
    {
     "cell_type": "code",
     "collapsed": false,
     "input": [
      "for data in coll.find({'_id':ObjectId('54d77ec606612110f563bf86')}):\n",
      "    print data"
     ],
     "language": "python",
     "metadata": {},
     "outputs": [
      {
       "output_type": "stream",
       "stream": "stdout",
       "text": [
        "{u'passwd': u'hoge', u'_id': ObjectId('54d77ec606612110f563bf86'), u'b': 10}\n"
       ]
      }
     ],
     "prompt_number": 46
    }
   ],
   "metadata": {}
  }
 ]
}