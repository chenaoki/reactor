{
 "metadata": {
  "name": "",
  "signature": "sha256:f2ba1c8920b1c369e463c3fdffa45d85401ce3a7f190f528e928dfc18622f908"
 },
 "nbformat": 3,
 "nbformat_minor": 0,
 "worksheets": [
  {
   "cells": [
    {
     "cell_type": "markdown",
     "metadata": {},
     "source": [
      "# Reactor \u521d\u671f\u691c\u8a0e\n",
      "__________\n"
     ]
    },
    {
     "cell_type": "code",
     "collapsed": false,
     "input": [
      "from datetime import datetime\n",
      "from Reaction import *"
     ],
     "language": "python",
     "metadata": {},
     "outputs": [],
     "prompt_number": 1
    },
    {
     "cell_type": "markdown",
     "metadata": {},
     "source": [
      "## \u57fa\u672c\u52d5\u4f5c\u78ba\u8a8d\n",
      "\n",
      "\u307e\u305a\u306fSeed\u3068\u306a\u308bReaction\u3092\u4f5c\u6210\u3002\n",
      "\n",
      "\u592a\u90ce\u541b\u304c\u300c\u4eca\u65e5\u3044\u3044\u5929\u6c17\u3060\u306d\u3001\u3069\u3046\u601d\u3046\uff1f\u300d\u3068\u8b70\u984c\u3092\u63d0\u51fa\u3002\n",
      "\n",
      "\u6b21\u90ce\u304f\u3093\u304c\u3059\u304b\u3055\u305a\u540c\u610f\u3059\u308b\u3002"
     ]
    },
    {
     "cell_type": "code",
     "collapsed": false,
     "input": [
      "a = Reaction(0, \"Taro\", None, \"It's fine today, don't you think so?\", EVAL_NEUT)\n",
      "b = Reaction(1, \"Jiro\", a, \"Year, good weather\", EVAL_PROS)"
     ],
     "language": "python",
     "metadata": {},
     "outputs": [],
     "prompt_number": 2
    },
    {
     "cell_type": "code",
     "collapsed": false,
     "input": [
      "print a.reactionFactor\n",
      "print b.reactionFactor"
     ],
     "language": "python",
     "metadata": {},
     "outputs": [
      {
       "output_type": "stream",
       "stream": "stdout",
       "text": [
        "2.0736\n",
        "1.44\n"
       ]
      }
     ],
     "prompt_number": 3
    },
    {
     "cell_type": "markdown",
     "metadata": {},
     "source": [
      "\u5f15\u7528\u3092\u53d7\u3051\u305f\u592a\u90ce\u304f\u3093\u306eRF : Reaction Factor\u304c\u6b21\u90ce\u541b\u3088\u308a\u9ad8\u3044\u3002\n",
      "\n",
      "\u4eca\u5ea6\u306f\u4e09\u90ce\u541b\u304c\u7570\u8b70\u3092\u5531\u3048\u308b\u3002"
     ]
    },
    {
     "cell_type": "code",
     "collapsed": false,
     "input": [
      "c = Reaction(2, \"Saburo\", a, \"I don't think so\", EVAL_CONS)\n",
      "print a.reactionFactor\n",
      "print c.reactionFactor"
     ],
     "language": "python",
     "metadata": {},
     "outputs": [
      {
       "output_type": "stream",
       "stream": "stdout",
       "text": [
        "4.1472\n",
        "1.44\n"
       ]
      }
     ],
     "prompt_number": 4
    },
    {
     "cell_type": "markdown",
     "metadata": {},
     "source": [
      "\u5206\u304b\u3089\u306a\u3044\u3001\u3068\u3044\u3046\u56db\u90ce\u541b\u304c\u3057\u3083\u3057\u3083\u308a\u51fa\u3066\u304f\u308b\u3002"
     ]
    },
    {
     "cell_type": "code",
     "collapsed": false,
     "input": [
      "d = Reaction(3, \"Shiro\", a, \"I don't know, coz I'm inside whole day\", EVAL_NEUT)\n",
      "print a.reactionFactor\n",
      "print d.reactionFactor"
     ],
     "language": "python",
     "metadata": {},
     "outputs": [
      {
       "output_type": "stream",
       "stream": "stdout",
       "text": [
        "5.5872\n",
        "1.2\n"
       ]
      }
     ],
     "prompt_number": 5
    },
    {
     "cell_type": "markdown",
     "metadata": {},
     "source": [
      "\u53cd\u5bfe\u610f\u898b\u3067\u3082\u3001\u5206\u304b\u3089\u306a\u3044\u3068\u3044\u3046\u610f\u898b\u3067\u3082\u3001\u592a\u90ce\u541b\u306eSeed\u306eReaction Factor\u306f\u3050\u3093\u3050\u3093\u4e0a\u6607\u3002\n",
      "\n",
      "\u5be1\u9ed9\u306a\u4e94\u90ce\u541b\u304c\u9ed9\u3063\u3066\u592a\u90ce\u304f\u3093\u306b\u53cd\u5bfe\u3059\u308b\u3002"
     ]
    },
    {
     "cell_type": "code",
     "collapsed": false,
     "input": [
      "e = Reaction(4, \"Goro\", a, \"\", EVAL_CONS)"
     ],
     "language": "python",
     "metadata": {},
     "outputs": [],
     "prompt_number": 6
    },
    {
     "cell_type": "code",
     "collapsed": false,
     "input": [
      "print a.reactionFactor\n",
      "print e.reactionFactor"
     ],
     "language": "python",
     "metadata": {},
     "outputs": [
      {
       "output_type": "stream",
       "stream": "stdout",
       "text": [
        "7.0272\n",
        "1.2\n"
       ]
      }
     ],
     "prompt_number": 7
    },
    {
     "cell_type": "markdown",
     "metadata": {},
     "source": [
      "\u4e94\u90ce\u541b\u306e\u7121\u8a00\u306e\u7570\u8b70\u3067\u3082\u592a\u90ce\u304f\u3093\u306eReaction Factor\u306f\u4e0a\u6607\u3057\u3066\u3044\u308b\u306e\u304c\u308f\u304b\u308b\u3002\n",
      "\n",
      "\u592a\u90ce\u541b\u306e\u767a\u8a00\u306b\u5bfe\u3059\u308bReaction List\u3092\u5217\u6319\u3057\u3066\u307f\u308b\u3002"
     ]
    },
    {
     "cell_type": "code",
     "collapsed": false,
     "input": [
      "for r in a.reactionList:\n",
      "    print r.strFormat()"
     ],
     "language": "python",
     "metadata": {},
     "outputs": [
      {
       "output_type": "stream",
       "stream": "stdout",
       "text": [
        "Jiro : Year, good weather @ 2015/02/08 20:30:59 (1.44)\n",
        "Saburo : I don't think so @ 2015/02/08 20:30:59 (1.44)\n",
        "Shiro : I don't know, coz I'm inside whole day @ 2015/02/08 20:30:59 (1.20)\n",
        "Goro :  @ 2015/02/08 20:30:59 (1.20)\n"
       ]
      }
     ],
     "prompt_number": 8
    },
    {
     "cell_type": "markdown",
     "metadata": {},
     "source": [
      "### \u591a\u968e\u5c64Reaction\n",
      "\n",
      "\u3053\u3093\u3069\u306f\u3001\u7570\u8b70\u3092\u5531\u3048\u305f\u4e09\u90ce\u541b\u306b\u82b1\u5b50\u3055\u3093\u304c\u540c\u8abf\u3059\u308b\u3002"
     ]
    },
    {
     "cell_type": "code",
     "collapsed": false,
     "input": [
      "f = Reaction(5, \"Hanako\", c, \"me too.\", EVAL_PROS )"
     ],
     "language": "python",
     "metadata": {},
     "outputs": [],
     "prompt_number": 9
    },
    {
     "cell_type": "code",
     "collapsed": false,
     "input": [
      "print a.reactionFactor\n",
      "print c.reactionFactor"
     ],
     "language": "python",
     "metadata": {},
     "outputs": [
      {
       "output_type": "stream",
       "stream": "stdout",
       "text": [
        "7.939584\n",
        "2.0736\n"
       ]
      }
     ],
     "prompt_number": 10
    },
    {
     "cell_type": "markdown",
     "metadata": {},
     "source": [
      "\u82b1\u5b50\u3055\u3093\u304c\u540c\u610f\u3057\u305f\u3053\u3068\u3067\u3001\u592a\u90ce\u541b\u3001\u4e09\u90ce\u541b\u306eRF\u3082\u4e0a\u6607\u3057\u3066\u3044\u308b\u3002"
     ]
    },
    {
     "cell_type": "markdown",
     "metadata": {},
     "source": [
      "### Reaction Chain\n",
      "\n",
      "\u82b1\u5b50\u3055\u3093\u306e\u767a\u8a00\u3092\u3055\u304b\u306e\u307c\u308a\u3001\u592a\u90ce\u541b\u2192\u4e09\u90ce\u541b\u2192\u82b1\u5b50\u3055\u3093\u306e\u767a\u8a00\u3092\u5168\u3066\u8868\u793a\u3057\u3066\u307f\u308b\u3002"
     ]
    },
    {
     "cell_type": "code",
     "collapsed": false,
     "input": [
      "chain = f.getReactionChain([])"
     ],
     "language": "python",
     "metadata": {},
     "outputs": [],
     "prompt_number": 11
    },
    {
     "cell_type": "code",
     "collapsed": false,
     "input": [
      "for r in reversed(chain):\n",
      "    print r.strFormat()"
     ],
     "language": "python",
     "metadata": {},
     "outputs": [
      {
       "output_type": "stream",
       "stream": "stdout",
       "text": [
        "Taro : It's fine today, don't you think so? @ 2015/02/08 20:30:59 (7.94)\n",
        "Saburo : I don't think so @ 2015/02/08 20:30:59 (2.07)\n",
        "Hanako : me too. @ 2015/02/08 20:30:59 (1.44)\n"
       ]
      }
     ],
     "prompt_number": 12
    },
    {
     "cell_type": "markdown",
     "metadata": {},
     "source": [
      "## \u89e3\u6790"
     ]
    },
    {
     "cell_type": "markdown",
     "metadata": {},
     "source": [
      "### Reaction List\u89e3\u6790\n",
      "\n",
      "\u592a\u90ce\u304f\u3093\u304c\u4f5c\u6210\u3057\u305fSeed\u306b\u5bfe\u3059\u308bReaction List\u3092\u3001\u53cd\u5fdc\u6bce\u306b\u6574\u7406\u3057\u3066\u307f\u308b"
     ]
    },
    {
     "cell_type": "code",
     "collapsed": false,
     "input": [
      "dict = {}\n",
      "dict[\"Pros\"] = []\n",
      "dict[\"Cons\"] = []\n",
      "dict[\"Neutral\"] = []\n",
      "for reaction in a.reactionList:\n",
      "    if reaction.evaluation == EVAL_PROS:\n",
      "        dict[\"Pros\"].append(reaction)\n",
      "    if reaction.evaluation == EVAL_CONS:\n",
      "        dict[\"Cons\"].append(reaction)\n",
      "    if reaction.evaluation == EVAL_NEUT:\n",
      "        dict[\"Neutral\"].append(reaction)\n",
      "        \n",
      "print \"Seed ---\"\n",
      "print a.strFormat()\n",
      "print \n",
      "\n",
      "for key in dict:        \n",
      "    print key, \"---\"\n",
      "    for r in dict[key]:\n",
      "        print r.strFormat()\n",
      "    print"
     ],
     "language": "python",
     "metadata": {},
     "outputs": [
      {
       "output_type": "stream",
       "stream": "stdout",
       "text": [
        "Seed ---\n",
        "Taro : It's fine today, don't you think so? @ 2015/02/08 20:30:59 (7.94)\n",
        "\n",
        "Neutral ---\n",
        "Shiro : I don't know, coz I'm inside whole day @ 2015/02/08 20:30:59 (1.20)\n",
        "\n",
        "Cons ---\n",
        "Saburo : I don't think so @ 2015/02/08 20:30:59 (2.07)\n",
        "Goro :  @ 2015/02/08 20:30:59 (1.20)\n",
        "\n",
        "Pros ---\n",
        "Jiro : Year, good weather @ 2015/02/08 20:30:59 (1.44)\n",
        "\n"
       ]
      }
     ],
     "prompt_number": 15
    },
    {
     "cell_type": "markdown",
     "metadata": {},
     "source": [
      "\u6b21\u306f\u3001\u592a\u90ce\u304f\u3093\u3078\u306eReaction\u3092RF\u306e\u9ad8\u3044\u9806\u306b\u30bd\u30fc\u30c8\u3057\u3066\u307f\u308b"
     ]
    },
    {
     "cell_type": "code",
     "collapsed": false,
     "input": [
      "sortedReactions = sorted( a.reactionList, key=lambda reaction: reaction.reactionFactor, reverse=True )\n",
      "for i, r in enumerate(sortedReactions):\n",
      "    print i, r.strFormat()"
     ],
     "language": "python",
     "metadata": {},
     "outputs": [
      {
       "output_type": "stream",
       "stream": "stdout",
       "text": [
        "0 Saburo : I don't think so @ 2015/02/08 20:30:59 (2.07)\n",
        "1 Jiro : Year, good weather @ 2015/02/08 20:30:59 (1.44)\n",
        "2 Shiro : I don't know, coz I'm inside whole day @ 2015/02/08 20:30:59 (1.20)\n",
        "3 Goro :  @ 2015/02/08 20:30:59 (1.20)\n"
       ]
      }
     ],
     "prompt_number": 14
    }
   ],
   "metadata": {}
  }
 ]
}