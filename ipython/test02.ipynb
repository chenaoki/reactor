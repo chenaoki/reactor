{
 "metadata": {
  "name": "",
  "signature": "sha256:a2c9c3afb458347a52a18aeb656867dc086893bf0d5a2ed6abf52ecee7a8cad5"
 },
 "nbformat": 3,
 "nbformat_minor": 0,
 "worksheets": [
  {
   "cells": [
    {
     "cell_type": "markdown",
     "metadata": {},
     "source": [
      "# Reactor \u521d\u671f\u691c\u8a0e\n",
      "__________\n"
     ]
    },
    {
     "cell_type": "code",
     "collapsed": false,
     "input": [
      "from GrafterDB import GrafterDB\n",
      "from Reaction import *"
     ],
     "language": "python",
     "metadata": {},
     "outputs": [],
     "prompt_number": 1
    },
    {
     "cell_type": "markdown",
     "metadata": {},
     "source": [
      "## \u57fa\u672c\u52d5\u4f5c\u78ba\u8a8d"
     ]
    },
    {
     "cell_type": "markdown",
     "metadata": {},
     "source": [
      "\u307e\u305a\u306fGrafter DB\u306b\u63a5\u7d9a\u63a5\u7d9a"
     ]
    },
    {
     "cell_type": "code",
     "collapsed": false,
     "input": [
      "db = GrafterDB(\"GrafterTest\")"
     ],
     "language": "python",
     "metadata": {},
     "outputs": [],
     "prompt_number": 2
    },
    {
     "cell_type": "markdown",
     "metadata": {},
     "source": [
      "\u6b21\u306b\u3001\u767b\u5834\u4eba\u7269\u306e\u30e6\u30fc\u30b6\u767b\u9332\u3092\u884c\u3046\u3002\n",
      "\n",
      "\uff08\u4e00\u90ce\u3001\u4e8c\u90ce\u3001\u4e09\u90ce\u3001\u56db\u90ce\u3001\u4e94\u90ce\u3001\u82b1\u5b50\uff09"
     ]
    },
    {
     "cell_type": "code",
     "collapsed": false,
     "input": [
      "db.addUser('ichiro', 'pass')\n",
      "db.addUser('jiro', 'pass')\n",
      "db.addUser('saburo', 'pass')\n",
      "db.addUser('shiro', 'pass')\n",
      "db.addUser('goro', 'pass')\n",
      "db.addUser('hanako', 'pass')"
     ],
     "language": "python",
     "metadata": {},
     "outputs": [
      {
       "metadata": {},
       "output_type": "pyout",
       "prompt_number": 3,
       "text": [
        "ObjectId('54ddfb450661216424dbe18c')"
       ]
      }
     ],
     "prompt_number": 3
    },
    {
     "cell_type": "markdown",
     "metadata": {},
     "source": [
      "\u30ed\u30b0\u30a4\u30f3\u3057\u3066\u30e6\u30fc\u30b6ID\u3092\u53d6\u5f97"
     ]
    },
    {
     "cell_type": "code",
     "collapsed": false,
     "input": [
      "ichiro = db.checkUser('ichiro', 'pass')\n",
      "jiro = db.checkUser('jiro', 'pass')\n",
      "saburo = db.checkUser('saburo', 'pass')\n",
      "shiro = db.checkUser('shiro', 'pass')\n",
      "goro = db.checkUser('goro', 'pass')\n",
      "hanako = db.checkUser('hanako', 'pass')"
     ],
     "language": "python",
     "metadata": {},
     "outputs": [],
     "prompt_number": 4
    },
    {
     "cell_type": "markdown",
     "metadata": {},
     "source": [
      "\u3067\u306f\u307e\u305a\u3001Seed\u3068\u306a\u308bReaction\u3092\u4f5c\u6210\u3002\n",
      "\n",
      "\u592a\u90ce\u541b\u304c\u300c\u4eca\u65e5\u3044\u3044\u5929\u6c17\u3060\u306d\u3001\u3069\u3046\u601d\u3046\uff1f\u300d\u3068\u8b70\u984c\u3092\u63d0\u51fa\u3002"
     ]
    },
    {
     "cell_type": "code",
     "collapsed": false,
     "input": [
      "a = db.addReaction( Reaction(\n",
      "    { '_id' : None, \n",
      "      'time' : None,\n",
      "      'author_id' : ichiro,\n",
      "      'author_name' : None,\n",
      "      'target_id' : None, \n",
      "      'reactionFactor' : 0.0,\n",
      "      'comment' : \"It's fine today, don't you think so?\", \n",
      "      'evaluation' : EVAL_NEUT,\n",
      "      'strReactionIdList' : '' }))"
     ],
     "language": "python",
     "metadata": {},
     "outputs": [],
     "prompt_number": 5
    },
    {
     "cell_type": "markdown",
     "metadata": {},
     "source": [
      "\n",
      "\u6b21\u90ce\u304f\u3093\u304c\u3059\u304b\u3055\u305a\u540c\u610f\u3059\u308b."
     ]
    },
    {
     "cell_type": "code",
     "collapsed": false,
     "input": [
      "b = db.addReaction(Reaction(\n",
      "    { '_id' : None, \n",
      "      'time' : None,\n",
      "      'author_id' : jiro, \n",
      "      'author_name' : None,\n",
      "      'target_id' : a, \n",
      "      'reactionFactor' : 0.0,\n",
      "      'comment' : \"Year, good weather\", \n",
      "      'evaluation' : EVAL_PROS,\n",
      "      'strReactionIdList' : '' }))"
     ],
     "language": "python",
     "metadata": {},
     "outputs": [],
     "prompt_number": 6
    },
    {
     "cell_type": "code",
     "collapsed": false,
     "input": [
      "print db.getReaction(a).strFormat()\n",
      "print db.getReaction(b).strFormat()"
     ],
     "language": "python",
     "metadata": {},
     "outputs": [
      {
       "output_type": "stream",
       "stream": "stdout",
       "text": [
        "ichiro(54ddfb450661216424dbe187) >  \"It's fine today, don't you think so?\" @ 2015/02/13 22:25:25 (54ddfb450661216424dbe18d:3.27)\n",
        "jiro(54ddfb450661216424dbe188) >  \"Year, good weather\" @ 2015/02/13 22:25:25 (54ddfb450661216424dbe18e:1.44)\n"
       ]
      }
     ],
     "prompt_number": 7
    },
    {
     "cell_type": "markdown",
     "metadata": {},
     "source": [
      "\u5f15\u7528\u3092\u53d7\u3051\u305f\u592a\u90ce\u304f\u3093\u306eRF : Reaction Factor\u304c\u6b21\u90ce\u541b\u3088\u308a\u9ad8\u3044\u3002\n",
      "\n",
      "\u4eca\u5ea6\u306f\u4e09\u90ce\u541b\u304c\u7570\u8b70\u3092\u5531\u3048\u308b\u3002"
     ]
    },
    {
     "cell_type": "code",
     "collapsed": false,
     "input": [
      "c = db.addReaction(Reaction(\n",
      "    { '_id' : None, \n",
      "      'time' : None,\n",
      "      'author_id' : saburo, \n",
      "      'author_name' : None,\n",
      "      'target_id' : a, \n",
      "      'reactionFactor' : 0.0,\n",
      "      'comment' : \"I don't think so\", \n",
      "      'evaluation' : EVAL_CONS,\n",
      "      'strReactionIdList' : '' }))"
     ],
     "language": "python",
     "metadata": {},
     "outputs": [],
     "prompt_number": 8
    },
    {
     "cell_type": "markdown",
     "metadata": {},
     "source": [
      "\u5206\u304b\u3089\u306a\u3044\u3001\u3068\u3044\u3046\u56db\u90ce\u541b\u304c\u3057\u3083\u3057\u3083\u308a\u51fa\u3066\u304f\u308b\u3002"
     ]
    },
    {
     "cell_type": "code",
     "collapsed": false,
     "input": [
      "d = db.addReaction(Reaction(\n",
      "    { '_id' : None, \n",
      "      'time' : None,\n",
      "      'author_id' : shiro, \n",
      "      'author_name' : None,\n",
      "      'target_id' : a, \n",
      "      'reactionFactor' : 0.0,\n",
      "      'comment' : \"I don't know, coz I'm inside whole day\", \n",
      "      'evaluation' : EVAL_NEUT,\n",
      "      'strReactionIdList' : '' }))"
     ],
     "language": "python",
     "metadata": {},
     "outputs": [],
     "prompt_number": 9
    },
    {
     "cell_type": "code",
     "collapsed": false,
     "input": [
      "print db.getReaction(a).strFormat()\n",
      "print db.getReaction(d).strFormat()"
     ],
     "language": "python",
     "metadata": {},
     "outputs": [
      {
       "output_type": "stream",
       "stream": "stdout",
       "text": [
        "ichiro(54ddfb450661216424dbe187) >  \"It's fine today, don't you think so?\" @ 2015/02/13 22:25:25 (54ddfb450661216424dbe18d:6.79)\n",
        "shiro(54ddfb450661216424dbe18a) >  \"I don't know, coz I'm inside whole day\" @ 2015/02/13 22:25:25 (54ddfb450661216424dbe190:1.20)\n"
       ]
      }
     ],
     "prompt_number": 10
    },
    {
     "cell_type": "markdown",
     "metadata": {},
     "source": [
      "\u53cd\u5bfe\u610f\u898b\u3067\u3082\u3001\u5206\u304b\u3089\u306a\u3044\u3068\u3044\u3046\u610f\u898b\u3067\u3082\u3001\u592a\u90ce\u541b\u306eSeed\u306eReaction Factor\u306f\u3050\u3093\u3050\u3093\u4e0a\u6607\u3002\n",
      "\n",
      "\u5be1\u9ed9\u306a\u4e94\u90ce\u541b\u304c\u9ed9\u3063\u3066\u592a\u90ce\u304f\u3093\u306b\u53cd\u5bfe\u3059\u308b\u3002"
     ]
    },
    {
     "cell_type": "code",
     "collapsed": false,
     "input": [
      "e = db.addReaction(Reaction(\n",
      "    { '_id' : None, \n",
      "      'time' : None,\n",
      "      'author_id' : goro, \n",
      "      'author_name' : None,\n",
      "      'target_id' : a, \n",
      "      'reactionFactor' : 0.0,\n",
      "      'comment' : \"\", \n",
      "      'evaluation' : EVAL_CONS,\n",
      "      'strReactionIdList' : '' }))\n",
      "print db.getReaction(a).strFormat()\n",
      "print db.getReaction(e).strFormat()"
     ],
     "language": "python",
     "metadata": {},
     "outputs": [
      {
       "output_type": "stream",
       "stream": "stdout",
       "text": [
        "ichiro(54ddfb450661216424dbe187) >  \"It's fine today, don't you think so?\" @ 2015/02/13 22:25:25 (54ddfb450661216424dbe18d:8.23)\n",
        "goro(54ddfb450661216424dbe18b) >  \"\" @ 2015/02/13 22:25:25 (54ddfb450661216424dbe191:1.20)\n"
       ]
      }
     ],
     "prompt_number": 11
    },
    {
     "cell_type": "markdown",
     "metadata": {},
     "source": [
      "\u4e94\u90ce\u541b\u306e\u7121\u8a00\u306e\u7570\u8b70\u3067\u3082\u592a\u90ce\u304f\u3093\u306eReaction Factor\u306f\u4e0a\u6607\u3057\u3066\u3044\u308b\u306e\u304c\u308f\u304b\u308b\u3002\n",
      "\n",
      "\u592a\u90ce\u541b\u306e\u767a\u8a00\u306b\u5bfe\u3059\u308bReaction List\u3092\u5217\u6319\u3057\u3066\u307f\u308b\u3002"
     ]
    },
    {
     "cell_type": "code",
     "collapsed": false,
     "input": [
      "for r_id in  db.getReaction(a).reactionIdList:\n",
      "    print  db.getReaction(r_id).strFormat()"
     ],
     "language": "python",
     "metadata": {},
     "outputs": [
      {
       "output_type": "stream",
       "stream": "stdout",
       "text": [
        "jiro(54ddfb450661216424dbe188) >  \"Year, good weather\" @ 2015/02/13 22:25:25 (54ddfb450661216424dbe18e:1.44)\n",
        "saburo(54ddfb450661216424dbe189) >  \"I don't think so\" @ 2015/02/13 22:25:25 (54ddfb450661216424dbe18f:1.44)\n",
        "shiro(54ddfb450661216424dbe18a) >  \"I don't know, coz I'm inside whole day\" @ 2015/02/13 22:25:25 (54ddfb450661216424dbe190:1.20)\n",
        "goro(54ddfb450661216424dbe18b) >  \"\" @ 2015/02/13 22:25:25 (54ddfb450661216424dbe191:1.20)\n"
       ]
      }
     ],
     "prompt_number": 12
    },
    {
     "cell_type": "markdown",
     "metadata": {},
     "source": [
      "### \u591a\u968e\u5c64Reaction\n",
      "\n",
      "\u3053\u3093\u3069\u306f\u3001\u7570\u8b70\u3092\u5531\u3048\u305f\u4e09\u90ce\u541b\u306b\u82b1\u5b50\u3055\u3093\u304c\u540c\u8abf\u3059\u308b\u3002"
     ]
    },
    {
     "cell_type": "code",
     "collapsed": false,
     "input": [
      "f = db.addReaction(Reaction(\n",
      "    { '_id' : None, \n",
      "      'time' : None,\n",
      "      'author_id' : hanako, \n",
      "      'author_name' : None,\n",
      "      'target_id' : c, \n",
      "      'reactionFactor' : 0.0,\n",
      "      'comment' : \"Me too. It's cloudy today.\", \n",
      "      'evaluation' : EVAL_PROS,\n",
      "      'strReactionIdList' : '' }))\n",
      "print db.getReaction(a).strFormat()\n",
      "print db.getReaction(c).strFormat()\n",
      "print db.getReaction(f).strFormat()"
     ],
     "language": "python",
     "metadata": {},
     "outputs": [
      {
       "output_type": "stream",
       "stream": "stdout",
       "text": [
        "ichiro(54ddfb450661216424dbe187) >  \"It's fine today, don't you think so?\" @ 2015/02/13 22:25:25 (54ddfb450661216424dbe18d:13.29)\n",
        "saburo(54ddfb450661216424dbe189) >  \"I don't think so\" @ 2015/02/13 22:25:25 (54ddfb450661216424dbe18f:3.51)\n",
        "hanako(54ddfb450661216424dbe18c) >  \"Me too. It's cloudy today.\" @ 2015/02/13 22:25:25 (54ddfb450661216424dbe192:1.44)\n"
       ]
      }
     ],
     "prompt_number": 13
    },
    {
     "cell_type": "markdown",
     "metadata": {},
     "source": [
      "\u82b1\u5b50\u3055\u3093\u304c\u540c\u610f\u3057\u305f\u3053\u3068\u3067\u3001\u592a\u90ce\u541b\u3001\u4e09\u90ce\u541b\u306eRF\u3082\u4e0a\u6607\u3057\u3066\u3044\u308b\u3002"
     ]
    },
    {
     "cell_type": "markdown",
     "metadata": {},
     "source": [
      "### Reaction Chain\n",
      "\n",
      "\u82b1\u5b50\u3055\u3093\u306e\u767a\u8a00\u3092\u3055\u304b\u306e\u307c\u308a\u3001\u592a\u90ce\u541b\u2192\u4e09\u90ce\u541b\u2192\u82b1\u5b50\u3055\u3093\u306e\u767a\u8a00\u3092\u5168\u3066\u8868\u793a\u3057\u3066\u307f\u308b\u3002"
     ]
    },
    {
     "cell_type": "code",
     "collapsed": false,
     "input": [
      "chain = db.getReactionChain( db.getReaction(f) )"
     ],
     "language": "python",
     "metadata": {},
     "outputs": [],
     "prompt_number": 14
    },
    {
     "cell_type": "code",
     "collapsed": false,
     "input": [
      "for r in reversed(chain):\n",
      "    print r.strFormat()"
     ],
     "language": "python",
     "metadata": {},
     "outputs": [
      {
       "output_type": "stream",
       "stream": "stdout",
       "text": [
        "ichiro(54ddfb450661216424dbe187) >  \"It's fine today, don't you think so?\" @ 2015/02/13 22:25:25 (54ddfb450661216424dbe18d:13.29)\n",
        "saburo(54ddfb450661216424dbe189) >  \"I don't think so\" @ 2015/02/13 22:25:25 (54ddfb450661216424dbe18f:3.51)\n",
        "hanako(54ddfb450661216424dbe18c) >  \"Me too. It's cloudy today.\" @ 2015/02/13 22:25:25 (54ddfb450661216424dbe192:1.44)\n"
       ]
      }
     ],
     "prompt_number": 15
    },
    {
     "cell_type": "markdown",
     "metadata": {},
     "source": [
      "## Seed\u63a2\u7d22\n",
      "\n",
      "DB\u304b\u3089\u8a71\u984c\u306e\uff08\u3042\u308b\u3044\u306fUser\u306b\u9069\u5408\u3057\u305f\uff09Seed\u306e\u30ea\u30b9\u30c8\u3092\u53d6\u5f97\u3059\u308b"
     ]
    },
    {
     "cell_type": "markdown",
     "metadata": {},
     "source": [
      "\u3082\u3046\u3072\u3068\u3064Seed\u3092\u8ffd\u52a0\u3057\u3066\u307f\u308b\u3002\n",
      "\n",
      "\u3053\u3093\u3069\u306f\u82b1\u5b50\u3055\u3093\u304c\u300c\u7537\u3063\u3066\u30d0\u30ab\u3060\u3068\u304a\u3082\u3044\u307e\u305b\u3093\u304b\uff1f\u300d\u3068\u3064\u3076\u3084\u304f\u3002"
     ]
    },
    {
     "cell_type": "code",
     "collapsed": false,
     "input": [
      "db.addReaction( Reaction(\n",
      "    { '_id' : None, \n",
      "      'time' : None,\n",
      "      'author_id' : hanako,\n",
      "      'author_name' : None,\n",
      "      'target_id' : None, \n",
      "      'reactionFactor' : 0.0,\n",
      "      'comment' : \"\u7537\u3063\u3066\u30d0\u30ab\u3060\u3068\u304a\u3082\u3044\u307e\u305b\u3093\u304b?\", \n",
      "      'evaluation' : EVAL_NEUT,\n",
      "      'strReactionIdList' : '' }))"
     ],
     "language": "python",
     "metadata": {},
     "outputs": [
      {
       "metadata": {},
       "output_type": "pyout",
       "prompt_number": 17,
       "text": [
        "ObjectId('54debed10661216424dbe193')"
       ]
      }
     ],
     "prompt_number": 17
    },
    {
     "cell_type": "code",
     "collapsed": false,
     "input": [
      "seeds = db.getHotSeeds(10)\n",
      "for s in seeds:\n",
      "    print s.strFormat()"
     ],
     "language": "python",
     "metadata": {},
     "outputs": [
      {
       "output_type": "stream",
       "stream": "stdout",
       "text": [
        "ichiro(54ddfb450661216424dbe187) >  \"It's fine today, don't you think so?\" @ 2015/02/13 22:25:25 (54ddfb450661216424dbe18d:13.29)\n",
        "hanako(54ddfb450661216424dbe18c) >  \"\u7537\u3063\u3066\u30d0\u30ab\u3060\u3068\u304a\u3082\u3044\u307e\u305b\u3093\u304b?\" @ 2015/02/14 12:19:45 (54debed10661216424dbe193:1.20)\n"
       ]
      }
     ],
     "prompt_number": 18
    },
    {
     "cell_type": "code",
     "collapsed": false,
     "input": [],
     "language": "python",
     "metadata": {},
     "outputs": []
    }
   ],
   "metadata": {}
  }
 ]
}